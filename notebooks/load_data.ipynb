{
 "cells": [
  {
   "cell_type": "markdown",
   "id": "c14d7cdf-dfed-45a2-a551-c6e7c3f90684",
   "metadata": {},
   "source": [
    "# Example Notebook to Load Data"
   ]
  },
  {
   "cell_type": "code",
   "execution_count": 5,
   "id": "ea10e26e-3cde-458d-b205-625d49948dba",
   "metadata": {
    "execution": {
     "iopub.execute_input": "2025-04-18T18:17:23.595941Z",
     "iopub.status.busy": "2025-04-18T18:17:23.595941Z",
     "iopub.status.idle": "2025-04-18T18:17:23.607638Z",
     "shell.execute_reply": "2025-04-18T18:17:23.607638Z",
     "shell.execute_reply.started": "2025-04-18T18:17:23.595941Z"
    }
   },
   "outputs": [
    {
     "data": {
      "text/plain": [
       "True"
      ]
     },
     "execution_count": 5,
     "metadata": {},
     "output_type": "execute_result"
    }
   ],
   "source": [
    "import pandas as pd\n",
    "import os\n",
    "from huggingface_hub import HfApi\n",
    "import dotenv\n",
    "import pyarrow\n",
    "dotenv.load_dotenv()"
   ]
  },
  {
   "cell_type": "code",
   "execution_count": 6,
   "id": "5f5c1e3c-d823-4e9a-a957-6c7712f15e37",
   "metadata": {
    "execution": {
     "iopub.execute_input": "2025-04-18T18:17:24.122139Z",
     "iopub.status.busy": "2025-04-18T18:17:24.122139Z",
     "iopub.status.idle": "2025-04-18T18:17:24.128489Z",
     "shell.execute_reply": "2025-04-18T18:17:24.128489Z",
     "shell.execute_reply.started": "2025-04-18T18:17:24.122139Z"
    }
   },
   "outputs": [],
   "source": [
    "api = HfApi()\n",
    "repo_id = \"hblim/top_reddit_posts_daily\""
   ]
  },
  {
   "cell_type": "code",
   "execution_count": 13,
   "id": "e9eb944f-0639-4bd1-bc14-e26dd7772bf8",
   "metadata": {
    "execution": {
     "iopub.execute_input": "2025-04-18T18:18:02.712648Z",
     "iopub.status.busy": "2025-04-18T18:18:02.712648Z",
     "iopub.status.idle": "2025-04-18T18:18:02.849582Z",
     "shell.execute_reply": "2025-04-18T18:18:02.849582Z",
     "shell.execute_reply.started": "2025-04-18T18:18:02.712648Z"
    }
   },
   "outputs": [
    {
     "name": "stdout",
     "output_type": "stream",
     "text": [
      "Records for 2025-04-18:\n"
     ]
    },
    {
     "data": {
      "text/html": [
       "<div>\n",
       "<style scoped>\n",
       "    .dataframe tbody tr th:only-of-type {\n",
       "        vertical-align: middle;\n",
       "    }\n",
       "\n",
       "    .dataframe tbody tr th {\n",
       "        vertical-align: top;\n",
       "    }\n",
       "\n",
       "    .dataframe thead th {\n",
       "        text-align: right;\n",
       "    }\n",
       "</style>\n",
       "<table border=\"1\" class=\"dataframe\">\n",
       "  <thead>\n",
       "    <tr style=\"text-align: right;\">\n",
       "      <th></th>\n",
       "      <th>0</th>\n",
       "    </tr>\n",
       "  </thead>\n",
       "  <tbody>\n",
       "    <tr>\n",
       "      <th>subreddit</th>\n",
       "      <td>apple</td>\n",
       "    </tr>\n",
       "    <tr>\n",
       "      <th>created_at</th>\n",
       "      <td>2025-04-17 19:59:44-05:00</td>\n",
       "    </tr>\n",
       "    <tr>\n",
       "      <th>retrieved_at</th>\n",
       "      <td>2025-04-18 12:46:10.631577-05:00</td>\n",
       "    </tr>\n",
       "    <tr>\n",
       "      <th>type</th>\n",
       "      <td>post</td>\n",
       "    </tr>\n",
       "    <tr>\n",
       "      <th>text</th>\n",
       "      <td>Apple wanted people to vibe code Vision Pro apps with Siri\\n\\n</td>\n",
       "    </tr>\n",
       "    <tr>\n",
       "      <th>score</th>\n",
       "      <td>427</td>\n",
       "    </tr>\n",
       "    <tr>\n",
       "      <th>post_id</th>\n",
       "      <td>1k1sn9w</td>\n",
       "    </tr>\n",
       "    <tr>\n",
       "      <th>parent_id</th>\n",
       "      <td>None</td>\n",
       "    </tr>\n",
       "  </tbody>\n",
       "</table>\n",
       "</div>"
      ],
      "text/plain": [
       "                                                                           0\n",
       "subreddit                                                              apple\n",
       "created_at                                         2025-04-17 19:59:44-05:00\n",
       "retrieved_at                                2025-04-18 12:46:10.631577-05:00\n",
       "type                                                                    post\n",
       "text          Apple wanted people to vibe code Vision Pro apps with Siri\\n\\n\n",
       "score                                                                    427\n",
       "post_id                                                              1k1sn9w\n",
       "parent_id                                                               None"
      ]
     },
     "execution_count": 13,
     "metadata": {},
     "output_type": "execute_result"
    }
   ],
   "source": [
    "# ——— Download and load today's shard ———\n",
    "date_str = \"2025-04-18\"\n",
    "today_path = api.hf_hub_download(\n",
    "    repo_id=repo_id,\n",
    "    filename=f\"data_raw/{date_str}.parquet\",\n",
    "    repo_type=\"dataset\"\n",
    ")\n",
    "df_today = pd.read_parquet(today_path)\n",
    "print(f\"Records for {date_str}:\")\n",
    "pd.set_option('display.max_colwidth', 100)\n",
    "df_today.loc[[0]].T"
   ]
  },
  {
   "cell_type": "code",
   "execution_count": 6,
   "id": "dd4a4e8b-4e7b-4b82-aa4d-a4012fdbc9da",
   "metadata": {
    "execution": {
     "iopub.execute_input": "2025-04-18T18:15:10.726314Z",
     "iopub.status.busy": "2025-04-18T18:15:10.726314Z",
     "iopub.status.idle": "2025-04-18T18:15:11.109160Z",
     "shell.execute_reply": "2025-04-18T18:15:11.109160Z",
     "shell.execute_reply.started": "2025-04-18T18:15:10.726314Z"
    }
   },
   "outputs": [
    {
     "name": "stdout",
     "output_type": "stream",
     "text": [
      "Total records across 5 days: 1443\n",
      "Records for 2025-04-18:\n"
     ]
    },
    {
     "data": {
      "text/html": [
       "<div>\n",
       "<style scoped>\n",
       "    .dataframe tbody tr th:only-of-type {\n",
       "        vertical-align: middle;\n",
       "    }\n",
       "\n",
       "    .dataframe tbody tr th {\n",
       "        vertical-align: top;\n",
       "    }\n",
       "\n",
       "    .dataframe thead th {\n",
       "        text-align: right;\n",
       "    }\n",
       "</style>\n",
       "<table border=\"1\" class=\"dataframe\">\n",
       "  <thead>\n",
       "    <tr style=\"text-align: right;\">\n",
       "      <th></th>\n",
       "      <th>subreddit</th>\n",
       "      <th>created_at</th>\n",
       "      <th>retrieved_at</th>\n",
       "      <th>type</th>\n",
       "      <th>text</th>\n",
       "      <th>score</th>\n",
       "      <th>post_id</th>\n",
       "      <th>parent_id</th>\n",
       "    </tr>\n",
       "  </thead>\n",
       "  <tbody>\n",
       "    <tr>\n",
       "      <th>0</th>\n",
       "      <td>apple</td>\n",
       "      <td>2025-04-17 19:59:44-05:00</td>\n",
       "      <td>2025-04-18 12:46:10.631577-05:00</td>\n",
       "      <td>post</td>\n",
       "      <td>Apple wanted people to vibe code Vision Pro ap...</td>\n",
       "      <td>427</td>\n",
       "      <td>1k1sn9w</td>\n",
       "      <td>None</td>\n",
       "    </tr>\n",
       "    <tr>\n",
       "      <th>1</th>\n",
       "      <td>apple</td>\n",
       "      <td>2025-04-17 20:17:24-05:00</td>\n",
       "      <td>2025-04-18 12:46:10.631577-05:00</td>\n",
       "      <td>comment</td>\n",
       "      <td>Using Siri? You want me to build, test and rel...</td>\n",
       "      <td>793</td>\n",
       "      <td>mnor2mf</td>\n",
       "      <td>t3_1k1sn9w</td>\n",
       "    </tr>\n",
       "    <tr>\n",
       "      <th>2</th>\n",
       "      <td>apple</td>\n",
       "      <td>2025-04-17 20:02:06-05:00</td>\n",
       "      <td>2025-04-18 12:46:10.631577-05:00</td>\n",
       "      <td>comment</td>\n",
       "      <td>Wtf is vibe coding?? \\n \\nWe're reaching incre...</td>\n",
       "      <td>216</td>\n",
       "      <td>mnoom31</td>\n",
       "      <td>t3_1k1sn9w</td>\n",
       "    </tr>\n",
       "    <tr>\n",
       "      <th>3</th>\n",
       "      <td>apple</td>\n",
       "      <td>2025-04-17 20:05:37-05:00</td>\n",
       "      <td>2025-04-18 12:46:10.631577-05:00</td>\n",
       "      <td>comment</td>\n",
       "      <td>What.</td>\n",
       "      <td>154</td>\n",
       "      <td>mnop6rz</td>\n",
       "      <td>t3_1k1sn9w</td>\n",
       "    </tr>\n",
       "    <tr>\n",
       "      <th>4</th>\n",
       "      <td>apple</td>\n",
       "      <td>2025-04-17 20:37:08-05:00</td>\n",
       "      <td>2025-04-18 12:46:10.631577-05:00</td>\n",
       "      <td>comment</td>\n",
       "      <td>Here's something I found on the web about vibe...</td>\n",
       "      <td>132</td>\n",
       "      <td>mnou85s</td>\n",
       "      <td>t3_1k1sn9w</td>\n",
       "    </tr>\n",
       "  </tbody>\n",
       "</table>\n",
       "</div>"
      ],
      "text/plain": [
       "  subreddit                created_at                     retrieved_at  \\\n",
       "0     apple 2025-04-17 19:59:44-05:00 2025-04-18 12:46:10.631577-05:00   \n",
       "1     apple 2025-04-17 20:17:24-05:00 2025-04-18 12:46:10.631577-05:00   \n",
       "2     apple 2025-04-17 20:02:06-05:00 2025-04-18 12:46:10.631577-05:00   \n",
       "3     apple 2025-04-17 20:05:37-05:00 2025-04-18 12:46:10.631577-05:00   \n",
       "4     apple 2025-04-17 20:37:08-05:00 2025-04-18 12:46:10.631577-05:00   \n",
       "\n",
       "      type                                               text  score  post_id  \\\n",
       "0     post  Apple wanted people to vibe code Vision Pro ap...    427  1k1sn9w   \n",
       "1  comment  Using Siri? You want me to build, test and rel...    793  mnor2mf   \n",
       "2  comment  Wtf is vibe coding?? \\n \\nWe're reaching incre...    216  mnoom31   \n",
       "3  comment                                              What.    154  mnop6rz   \n",
       "4  comment  Here's something I found on the web about vibe...    132  mnou85s   \n",
       "\n",
       "    parent_id  \n",
       "0        None  \n",
       "1  t3_1k1sn9w  \n",
       "2  t3_1k1sn9w  \n",
       "3  t3_1k1sn9w  \n",
       "4  t3_1k1sn9w  "
      ]
     },
     "execution_count": 6,
     "metadata": {},
     "output_type": "execute_result"
    }
   ],
   "source": [
    "# ——— Download all historical data ———\n",
    "\n",
    "# 1. List all parquet files in the dataset repo\n",
    "all_files = api.list_repo_files(repo_id, repo_type=\"dataset\")\n",
    "parquet_files = sorted([f for f in all_files if f.startswith(\"data_raw/\") and f.endswith(\".parquet\")])\n",
    "\n",
    "# 2. Download each shard and load with pandas\n",
    "dfs = []\n",
    "for shard in parquet_files:\n",
    "    local_path = api.hf_hub_download(repo_id=repo_id, filename=shard, repo_type=\"dataset\")\n",
    "    dfs.append(pd.read_parquet(local_path))\n",
    "\n",
    "# 3. Concatenate into one DataFrame\n",
    "df_all = pd.concat(dfs, ignore_index=True)\n",
    "print(f\"Total records across {len(dfs)} days: {len(df_all)}\")\n",
    "\n",
    "df_today = pd.read_parquet(today_path)\n",
    "print(f\"Records for {date_str}:\")\n",
    "df_today.head()"
   ]
  }
 ],
 "metadata": {
  "kernelspec": {
   "display_name": "Python [conda env:reddit_scraper]",
   "language": "python",
   "name": "conda-env-reddit_scraper-py"
  },
  "language_info": {
   "codemirror_mode": {
    "name": "ipython",
    "version": 3
   },
   "file_extension": ".py",
   "mimetype": "text/x-python",
   "name": "python",
   "nbconvert_exporter": "python",
   "pygments_lexer": "ipython3",
   "version": "3.11.12"
  }
 },
 "nbformat": 4,
 "nbformat_minor": 5
}
